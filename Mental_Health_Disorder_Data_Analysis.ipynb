{
  "nbformat": 4,
  "nbformat_minor": 0,
  "metadata": {
    "colab": {
      "provenance": [],
      "include_colab_link": true
    },
    "kernelspec": {
      "name": "python3",
      "display_name": "Python 3"
    },
    "language_info": {
      "name": "python"
    }
  },
  "cells": [
    {
      "cell_type": "markdown",
      "metadata": {
        "id": "view-in-github",
        "colab_type": "text"
      },
      "source": [
        "<a href=\"https://colab.research.google.com/github/sumodha/git/blob/main/Mental_Health_Disorder_Data_Analysis.ipynb\" target=\"_parent\"><img src=\"https://colab.research.google.com/assets/colab-badge.svg\" alt=\"Open In Colab\"/></a>"
      ]
    },
    {
      "cell_type": "markdown",
      "source": [
        "## APPROACH 1: MULTICLASSIFICATION\n",
        "\n"
      ],
      "metadata": {
        "id": "13oKGXijBJdT"
      }
    },
    {
      "cell_type": "markdown",
      "source": [
        "# Preprocessing Data"
      ],
      "metadata": {
        "id": "7ZYAYMrruv9x"
      }
    },
    {
      "cell_type": "code",
      "execution_count": null,
      "metadata": {
        "id": "O68-AfqZhGjb"
      },
      "outputs": [],
      "source": [
        "import pandas as pd\n",
        "import numpy as np\n"
      ]
    },
    {
      "cell_type": "code",
      "source": [
        "disorder_mapping = {\n",
        "    \"Healthy control\": 0,\n",
        "    \"Mood disorder\": 1,\n",
        "    \"Schizophrenia\": 2,\n",
        "    \"Obsessive compulsive disorder\": 3,\n",
        "    \"Anxiety disorder\": 4,\n",
        "    \"Trauma and stress related disorder\": 5,\n",
        "    \"Addictive disorder\": 6,\n",
        "}"
      ],
      "metadata": {
        "id": "B1y5K6ZMzN3C"
      },
      "execution_count": null,
      "outputs": []
    },
    {
      "cell_type": "code",
      "source": [
        "df = pd.read_csv(\"train_EEG.csv\")\n",
        "df.drop(['ID', 'sex', 'age', 'eeg.date', 'IQ', 'education', 'specific.disorder', 'Unnamed: 122'], axis=1, inplace=True) # dropping columns unused in model\n",
        "\n",
        "df['main.disorder'].value_counts(ascending=True)  # analyzing frequency of disorders in given population\n"
      ],
      "metadata": {
        "id": "9M85iE6hhWiT",
        "colab": {
          "base_uri": "https://localhost:8080/",
          "height": 335
        },
        "outputId": "90f042f2-b4f3-4b9d-e8b0-1339a4f742d7"
      },
      "execution_count": null,
      "outputs": [
        {
          "output_type": "execute_result",
          "data": {
            "text/plain": [
              "main.disorder\n",
              "Obsessive compulsive disorder          38\n",
              "Healthy control                        87\n",
              "Anxiety disorder                       91\n",
              "Trauma and stress related disorder    106\n",
              "Schizophrenia                         109\n",
              "Addictive disorder                    171\n",
              "Mood disorder                         250\n",
              "Name: count, dtype: int64"
            ],
            "text/html": [
              "<div>\n",
              "<style scoped>\n",
              "    .dataframe tbody tr th:only-of-type {\n",
              "        vertical-align: middle;\n",
              "    }\n",
              "\n",
              "    .dataframe tbody tr th {\n",
              "        vertical-align: top;\n",
              "    }\n",
              "\n",
              "    .dataframe thead th {\n",
              "        text-align: right;\n",
              "    }\n",
              "</style>\n",
              "<table border=\"1\" class=\"dataframe\">\n",
              "  <thead>\n",
              "    <tr style=\"text-align: right;\">\n",
              "      <th></th>\n",
              "      <th>count</th>\n",
              "    </tr>\n",
              "    <tr>\n",
              "      <th>main.disorder</th>\n",
              "      <th></th>\n",
              "    </tr>\n",
              "  </thead>\n",
              "  <tbody>\n",
              "    <tr>\n",
              "      <th>Obsessive compulsive disorder</th>\n",
              "      <td>38</td>\n",
              "    </tr>\n",
              "    <tr>\n",
              "      <th>Healthy control</th>\n",
              "      <td>87</td>\n",
              "    </tr>\n",
              "    <tr>\n",
              "      <th>Anxiety disorder</th>\n",
              "      <td>91</td>\n",
              "    </tr>\n",
              "    <tr>\n",
              "      <th>Trauma and stress related disorder</th>\n",
              "      <td>106</td>\n",
              "    </tr>\n",
              "    <tr>\n",
              "      <th>Schizophrenia</th>\n",
              "      <td>109</td>\n",
              "    </tr>\n",
              "    <tr>\n",
              "      <th>Addictive disorder</th>\n",
              "      <td>171</td>\n",
              "    </tr>\n",
              "    <tr>\n",
              "      <th>Mood disorder</th>\n",
              "      <td>250</td>\n",
              "    </tr>\n",
              "  </tbody>\n",
              "</table>\n",
              "</div><br><label><b>dtype:</b> int64</label>"
            ]
          },
          "metadata": {},
          "execution_count": 1994
        }
      ]
    },
    {
      "cell_type": "code",
      "source": [
        "df.isna().sum() # checking for null values\n",
        "\n",
        "df['main.disorder'] = df['main.disorder'].map(disorder_mapping)\n",
        "\n",
        "df.iloc[:,[0] + list(range(21,77))] ## only using specific portion of data"
      ],
      "metadata": {
        "colab": {
          "base_uri": "https://localhost:8080/",
          "height": 443
        },
        "id": "CpvQZO6JKNSg",
        "outputId": "56992eab-9341-4766-bbcf-f009606c6ccd"
      },
      "execution_count": null,
      "outputs": [
        {
          "output_type": "execute_result",
          "data": {
            "text/plain": [
              "     main.disorder  AB.B.theta.b.FP2  AB.B.theta.c.F7  AB.B.theta.d.F3  \\\n",
              "0                1         18.303788        13.633757        22.041501   \n",
              "1                0         10.925079         6.613441        13.709309   \n",
              "2                2         23.856276        17.192334        27.821940   \n",
              "3                3          6.238748         5.580928         7.778670   \n",
              "4                0         20.500971        18.979308        27.082688   \n",
              "..             ...               ...              ...              ...   \n",
              "847              2         13.571850         7.966899        13.132145   \n",
              "848              5         12.308585         7.845604        16.138906   \n",
              "849              1          6.452553         4.626529         7.723620   \n",
              "850              1         29.545353        24.762565        33.244126   \n",
              "851              5         18.218044         9.291595        13.081024   \n",
              "\n",
              "     AB.B.theta.e.Fz  AB.B.theta.f.F4  AB.B.theta.g.F8  AB.B.theta.h.T3  \\\n",
              "0          25.790113        25.823262        13.680359        10.190899   \n",
              "1          15.116406        13.940799         9.737385         4.203904   \n",
              "2          23.748798        28.188047        17.034603        11.359047   \n",
              "3           8.253590         6.514957         4.101726         4.261923   \n",
              "4          27.486381        20.751768        14.354886        13.017812   \n",
              "..               ...              ...              ...              ...   \n",
              "847        17.836374        14.810302         9.291721         4.580396   \n",
              "848        14.159804        18.262581        10.427668         7.107656   \n",
              "849        10.294436         8.058488         3.346537         2.926677   \n",
              "850        37.213638        39.148094        30.127781        23.975158   \n",
              "851        20.836696        17.039817        12.624541         4.559502   \n",
              "\n",
              "     AB.B.theta.i.C3  AB.B.theta.j.Cz  ...  AB.D.beta.j.Cz  AB.D.beta.k.C4  \\\n",
              "0          20.473551        30.154422  ...       44.951035       46.139032   \n",
              "1          10.596295        17.227815  ...       12.561847       10.707997   \n",
              "2          21.223044        26.626620  ...       20.179951       15.792660   \n",
              "3           5.598839         7.597268  ...        9.583891        8.876966   \n",
              "4          21.256323        25.306429  ...       11.511984       11.211131   \n",
              "..               ...              ...  ...             ...             ...   \n",
              "847         8.576046        10.707775  ...       10.593145       10.674908   \n",
              "848        11.541728        13.789083  ...       16.543733       17.078695   \n",
              "849         8.548068         9.972517  ...       13.541422       11.324239   \n",
              "850        26.316786        31.819805  ...       28.395532       29.196254   \n",
              "851         8.975460        17.681270  ...      115.949050       80.997407   \n",
              "\n",
              "     AB.D.beta.l.T4  AB.D.beta.m.T5  AB.D.beta.n.P3  AB.D.beta.o.Pz  \\\n",
              "0         19.652424       21.509790       39.690256       47.537016   \n",
              "1          6.391980        2.105308        6.449862       10.164398   \n",
              "2          9.079362       15.583569       23.866946       14.442586   \n",
              "3          7.714012        6.592033       13.158414       14.713435   \n",
              "4          7.407756        7.071076        9.746076       10.957198   \n",
              "..              ...             ...             ...             ...   \n",
              "847        7.756236        5.812431       12.415957       11.073957   \n",
              "848       12.201750        4.277006       12.914835       11.304075   \n",
              "849        5.565310        8.397118       15.908713       17.039693   \n",
              "850       14.508960       16.294836       41.331719       61.375093   \n",
              "851       24.319360        7.353951       54.684467       74.339629   \n",
              "\n",
              "     AB.D.beta.p.P4  AB.D.beta.q.T6  AB.D.beta.r.O1  AB.D.beta.s.O2  \n",
              "0         49.421018       32.762813       38.909935       34.682660  \n",
              "1         10.185170        7.879386        3.574329       10.248237  \n",
              "2         21.395784       22.512629       18.103919       18.985400  \n",
              "3         11.898775        6.647382        8.314214       10.286457  \n",
              "4         10.030780        6.566334        7.986665        6.538834  \n",
              "..              ...             ...             ...             ...  \n",
              "847       13.638661       10.202449       19.303015        8.765116  \n",
              "848       18.044994       12.226328        8.589709       10.948265  \n",
              "849       16.081483       18.541701       23.400039       11.554367  \n",
              "850       49.499607       23.333163       29.212448       29.097592  \n",
              "851       55.810835       24.744710        9.201151       12.254084  \n",
              "\n",
              "[852 rows x 57 columns]"
            ],
            "text/html": [
              "\n",
              "  <div id=\"df-4aa736a6-6f6d-45f7-87b7-6e43c9f0ddf7\" class=\"colab-df-container\">\n",
              "    <div>\n",
              "<style scoped>\n",
              "    .dataframe tbody tr th:only-of-type {\n",
              "        vertical-align: middle;\n",
              "    }\n",
              "\n",
              "    .dataframe tbody tr th {\n",
              "        vertical-align: top;\n",
              "    }\n",
              "\n",
              "    .dataframe thead th {\n",
              "        text-align: right;\n",
              "    }\n",
              "</style>\n",
              "<table border=\"1\" class=\"dataframe\">\n",
              "  <thead>\n",
              "    <tr style=\"text-align: right;\">\n",
              "      <th></th>\n",
              "      <th>main.disorder</th>\n",
              "      <th>AB.B.theta.b.FP2</th>\n",
              "      <th>AB.B.theta.c.F7</th>\n",
              "      <th>AB.B.theta.d.F3</th>\n",
              "      <th>AB.B.theta.e.Fz</th>\n",
              "      <th>AB.B.theta.f.F4</th>\n",
              "      <th>AB.B.theta.g.F8</th>\n",
              "      <th>AB.B.theta.h.T3</th>\n",
              "      <th>AB.B.theta.i.C3</th>\n",
              "      <th>AB.B.theta.j.Cz</th>\n",
              "      <th>...</th>\n",
              "      <th>AB.D.beta.j.Cz</th>\n",
              "      <th>AB.D.beta.k.C4</th>\n",
              "      <th>AB.D.beta.l.T4</th>\n",
              "      <th>AB.D.beta.m.T5</th>\n",
              "      <th>AB.D.beta.n.P3</th>\n",
              "      <th>AB.D.beta.o.Pz</th>\n",
              "      <th>AB.D.beta.p.P4</th>\n",
              "      <th>AB.D.beta.q.T6</th>\n",
              "      <th>AB.D.beta.r.O1</th>\n",
              "      <th>AB.D.beta.s.O2</th>\n",
              "    </tr>\n",
              "  </thead>\n",
              "  <tbody>\n",
              "    <tr>\n",
              "      <th>0</th>\n",
              "      <td>1</td>\n",
              "      <td>18.303788</td>\n",
              "      <td>13.633757</td>\n",
              "      <td>22.041501</td>\n",
              "      <td>25.790113</td>\n",
              "      <td>25.823262</td>\n",
              "      <td>13.680359</td>\n",
              "      <td>10.190899</td>\n",
              "      <td>20.473551</td>\n",
              "      <td>30.154422</td>\n",
              "      <td>...</td>\n",
              "      <td>44.951035</td>\n",
              "      <td>46.139032</td>\n",
              "      <td>19.652424</td>\n",
              "      <td>21.509790</td>\n",
              "      <td>39.690256</td>\n",
              "      <td>47.537016</td>\n",
              "      <td>49.421018</td>\n",
              "      <td>32.762813</td>\n",
              "      <td>38.909935</td>\n",
              "      <td>34.682660</td>\n",
              "    </tr>\n",
              "    <tr>\n",
              "      <th>1</th>\n",
              "      <td>0</td>\n",
              "      <td>10.925079</td>\n",
              "      <td>6.613441</td>\n",
              "      <td>13.709309</td>\n",
              "      <td>15.116406</td>\n",
              "      <td>13.940799</td>\n",
              "      <td>9.737385</td>\n",
              "      <td>4.203904</td>\n",
              "      <td>10.596295</td>\n",
              "      <td>17.227815</td>\n",
              "      <td>...</td>\n",
              "      <td>12.561847</td>\n",
              "      <td>10.707997</td>\n",
              "      <td>6.391980</td>\n",
              "      <td>2.105308</td>\n",
              "      <td>6.449862</td>\n",
              "      <td>10.164398</td>\n",
              "      <td>10.185170</td>\n",
              "      <td>7.879386</td>\n",
              "      <td>3.574329</td>\n",
              "      <td>10.248237</td>\n",
              "    </tr>\n",
              "    <tr>\n",
              "      <th>2</th>\n",
              "      <td>2</td>\n",
              "      <td>23.856276</td>\n",
              "      <td>17.192334</td>\n",
              "      <td>27.821940</td>\n",
              "      <td>23.748798</td>\n",
              "      <td>28.188047</td>\n",
              "      <td>17.034603</td>\n",
              "      <td>11.359047</td>\n",
              "      <td>21.223044</td>\n",
              "      <td>26.626620</td>\n",
              "      <td>...</td>\n",
              "      <td>20.179951</td>\n",
              "      <td>15.792660</td>\n",
              "      <td>9.079362</td>\n",
              "      <td>15.583569</td>\n",
              "      <td>23.866946</td>\n",
              "      <td>14.442586</td>\n",
              "      <td>21.395784</td>\n",
              "      <td>22.512629</td>\n",
              "      <td>18.103919</td>\n",
              "      <td>18.985400</td>\n",
              "    </tr>\n",
              "    <tr>\n",
              "      <th>3</th>\n",
              "      <td>3</td>\n",
              "      <td>6.238748</td>\n",
              "      <td>5.580928</td>\n",
              "      <td>7.778670</td>\n",
              "      <td>8.253590</td>\n",
              "      <td>6.514957</td>\n",
              "      <td>4.101726</td>\n",
              "      <td>4.261923</td>\n",
              "      <td>5.598839</td>\n",
              "      <td>7.597268</td>\n",
              "      <td>...</td>\n",
              "      <td>9.583891</td>\n",
              "      <td>8.876966</td>\n",
              "      <td>7.714012</td>\n",
              "      <td>6.592033</td>\n",
              "      <td>13.158414</td>\n",
              "      <td>14.713435</td>\n",
              "      <td>11.898775</td>\n",
              "      <td>6.647382</td>\n",
              "      <td>8.314214</td>\n",
              "      <td>10.286457</td>\n",
              "    </tr>\n",
              "    <tr>\n",
              "      <th>4</th>\n",
              "      <td>0</td>\n",
              "      <td>20.500971</td>\n",
              "      <td>18.979308</td>\n",
              "      <td>27.082688</td>\n",
              "      <td>27.486381</td>\n",
              "      <td>20.751768</td>\n",
              "      <td>14.354886</td>\n",
              "      <td>13.017812</td>\n",
              "      <td>21.256323</td>\n",
              "      <td>25.306429</td>\n",
              "      <td>...</td>\n",
              "      <td>11.511984</td>\n",
              "      <td>11.211131</td>\n",
              "      <td>7.407756</td>\n",
              "      <td>7.071076</td>\n",
              "      <td>9.746076</td>\n",
              "      <td>10.957198</td>\n",
              "      <td>10.030780</td>\n",
              "      <td>6.566334</td>\n",
              "      <td>7.986665</td>\n",
              "      <td>6.538834</td>\n",
              "    </tr>\n",
              "    <tr>\n",
              "      <th>...</th>\n",
              "      <td>...</td>\n",
              "      <td>...</td>\n",
              "      <td>...</td>\n",
              "      <td>...</td>\n",
              "      <td>...</td>\n",
              "      <td>...</td>\n",
              "      <td>...</td>\n",
              "      <td>...</td>\n",
              "      <td>...</td>\n",
              "      <td>...</td>\n",
              "      <td>...</td>\n",
              "      <td>...</td>\n",
              "      <td>...</td>\n",
              "      <td>...</td>\n",
              "      <td>...</td>\n",
              "      <td>...</td>\n",
              "      <td>...</td>\n",
              "      <td>...</td>\n",
              "      <td>...</td>\n",
              "      <td>...</td>\n",
              "      <td>...</td>\n",
              "    </tr>\n",
              "    <tr>\n",
              "      <th>847</th>\n",
              "      <td>2</td>\n",
              "      <td>13.571850</td>\n",
              "      <td>7.966899</td>\n",
              "      <td>13.132145</td>\n",
              "      <td>17.836374</td>\n",
              "      <td>14.810302</td>\n",
              "      <td>9.291721</td>\n",
              "      <td>4.580396</td>\n",
              "      <td>8.576046</td>\n",
              "      <td>10.707775</td>\n",
              "      <td>...</td>\n",
              "      <td>10.593145</td>\n",
              "      <td>10.674908</td>\n",
              "      <td>7.756236</td>\n",
              "      <td>5.812431</td>\n",
              "      <td>12.415957</td>\n",
              "      <td>11.073957</td>\n",
              "      <td>13.638661</td>\n",
              "      <td>10.202449</td>\n",
              "      <td>19.303015</td>\n",
              "      <td>8.765116</td>\n",
              "    </tr>\n",
              "    <tr>\n",
              "      <th>848</th>\n",
              "      <td>5</td>\n",
              "      <td>12.308585</td>\n",
              "      <td>7.845604</td>\n",
              "      <td>16.138906</td>\n",
              "      <td>14.159804</td>\n",
              "      <td>18.262581</td>\n",
              "      <td>10.427668</td>\n",
              "      <td>7.107656</td>\n",
              "      <td>11.541728</td>\n",
              "      <td>13.789083</td>\n",
              "      <td>...</td>\n",
              "      <td>16.543733</td>\n",
              "      <td>17.078695</td>\n",
              "      <td>12.201750</td>\n",
              "      <td>4.277006</td>\n",
              "      <td>12.914835</td>\n",
              "      <td>11.304075</td>\n",
              "      <td>18.044994</td>\n",
              "      <td>12.226328</td>\n",
              "      <td>8.589709</td>\n",
              "      <td>10.948265</td>\n",
              "    </tr>\n",
              "    <tr>\n",
              "      <th>849</th>\n",
              "      <td>1</td>\n",
              "      <td>6.452553</td>\n",
              "      <td>4.626529</td>\n",
              "      <td>7.723620</td>\n",
              "      <td>10.294436</td>\n",
              "      <td>8.058488</td>\n",
              "      <td>3.346537</td>\n",
              "      <td>2.926677</td>\n",
              "      <td>8.548068</td>\n",
              "      <td>9.972517</td>\n",
              "      <td>...</td>\n",
              "      <td>13.541422</td>\n",
              "      <td>11.324239</td>\n",
              "      <td>5.565310</td>\n",
              "      <td>8.397118</td>\n",
              "      <td>15.908713</td>\n",
              "      <td>17.039693</td>\n",
              "      <td>16.081483</td>\n",
              "      <td>18.541701</td>\n",
              "      <td>23.400039</td>\n",
              "      <td>11.554367</td>\n",
              "    </tr>\n",
              "    <tr>\n",
              "      <th>850</th>\n",
              "      <td>1</td>\n",
              "      <td>29.545353</td>\n",
              "      <td>24.762565</td>\n",
              "      <td>33.244126</td>\n",
              "      <td>37.213638</td>\n",
              "      <td>39.148094</td>\n",
              "      <td>30.127781</td>\n",
              "      <td>23.975158</td>\n",
              "      <td>26.316786</td>\n",
              "      <td>31.819805</td>\n",
              "      <td>...</td>\n",
              "      <td>28.395532</td>\n",
              "      <td>29.196254</td>\n",
              "      <td>14.508960</td>\n",
              "      <td>16.294836</td>\n",
              "      <td>41.331719</td>\n",
              "      <td>61.375093</td>\n",
              "      <td>49.499607</td>\n",
              "      <td>23.333163</td>\n",
              "      <td>29.212448</td>\n",
              "      <td>29.097592</td>\n",
              "    </tr>\n",
              "    <tr>\n",
              "      <th>851</th>\n",
              "      <td>5</td>\n",
              "      <td>18.218044</td>\n",
              "      <td>9.291595</td>\n",
              "      <td>13.081024</td>\n",
              "      <td>20.836696</td>\n",
              "      <td>17.039817</td>\n",
              "      <td>12.624541</td>\n",
              "      <td>4.559502</td>\n",
              "      <td>8.975460</td>\n",
              "      <td>17.681270</td>\n",
              "      <td>...</td>\n",
              "      <td>115.949050</td>\n",
              "      <td>80.997407</td>\n",
              "      <td>24.319360</td>\n",
              "      <td>7.353951</td>\n",
              "      <td>54.684467</td>\n",
              "      <td>74.339629</td>\n",
              "      <td>55.810835</td>\n",
              "      <td>24.744710</td>\n",
              "      <td>9.201151</td>\n",
              "      <td>12.254084</td>\n",
              "    </tr>\n",
              "  </tbody>\n",
              "</table>\n",
              "<p>852 rows × 57 columns</p>\n",
              "</div>\n",
              "    <div class=\"colab-df-buttons\">\n",
              "\n",
              "  <div class=\"colab-df-container\">\n",
              "    <button class=\"colab-df-convert\" onclick=\"convertToInteractive('df-4aa736a6-6f6d-45f7-87b7-6e43c9f0ddf7')\"\n",
              "            title=\"Convert this dataframe to an interactive table.\"\n",
              "            style=\"display:none;\">\n",
              "\n",
              "  <svg xmlns=\"http://www.w3.org/2000/svg\" height=\"24px\" viewBox=\"0 -960 960 960\">\n",
              "    <path d=\"M120-120v-720h720v720H120Zm60-500h600v-160H180v160Zm220 220h160v-160H400v160Zm0 220h160v-160H400v160ZM180-400h160v-160H180v160Zm440 0h160v-160H620v160ZM180-180h160v-160H180v160Zm440 0h160v-160H620v160Z\"/>\n",
              "  </svg>\n",
              "    </button>\n",
              "\n",
              "  <style>\n",
              "    .colab-df-container {\n",
              "      display:flex;\n",
              "      gap: 12px;\n",
              "    }\n",
              "\n",
              "    .colab-df-convert {\n",
              "      background-color: #E8F0FE;\n",
              "      border: none;\n",
              "      border-radius: 50%;\n",
              "      cursor: pointer;\n",
              "      display: none;\n",
              "      fill: #1967D2;\n",
              "      height: 32px;\n",
              "      padding: 0 0 0 0;\n",
              "      width: 32px;\n",
              "    }\n",
              "\n",
              "    .colab-df-convert:hover {\n",
              "      background-color: #E2EBFA;\n",
              "      box-shadow: 0px 1px 2px rgba(60, 64, 67, 0.3), 0px 1px 3px 1px rgba(60, 64, 67, 0.15);\n",
              "      fill: #174EA6;\n",
              "    }\n",
              "\n",
              "    .colab-df-buttons div {\n",
              "      margin-bottom: 4px;\n",
              "    }\n",
              "\n",
              "    [theme=dark] .colab-df-convert {\n",
              "      background-color: #3B4455;\n",
              "      fill: #D2E3FC;\n",
              "    }\n",
              "\n",
              "    [theme=dark] .colab-df-convert:hover {\n",
              "      background-color: #434B5C;\n",
              "      box-shadow: 0px 1px 3px 1px rgba(0, 0, 0, 0.15);\n",
              "      filter: drop-shadow(0px 1px 2px rgba(0, 0, 0, 0.3));\n",
              "      fill: #FFFFFF;\n",
              "    }\n",
              "  </style>\n",
              "\n",
              "    <script>\n",
              "      const buttonEl =\n",
              "        document.querySelector('#df-4aa736a6-6f6d-45f7-87b7-6e43c9f0ddf7 button.colab-df-convert');\n",
              "      buttonEl.style.display =\n",
              "        google.colab.kernel.accessAllowed ? 'block' : 'none';\n",
              "\n",
              "      async function convertToInteractive(key) {\n",
              "        const element = document.querySelector('#df-4aa736a6-6f6d-45f7-87b7-6e43c9f0ddf7');\n",
              "        const dataTable =\n",
              "          await google.colab.kernel.invokeFunction('convertToInteractive',\n",
              "                                                    [key], {});\n",
              "        if (!dataTable) return;\n",
              "\n",
              "        const docLinkHtml = 'Like what you see? Visit the ' +\n",
              "          '<a target=\"_blank\" href=https://colab.research.google.com/notebooks/data_table.ipynb>data table notebook</a>'\n",
              "          + ' to learn more about interactive tables.';\n",
              "        element.innerHTML = '';\n",
              "        dataTable['output_type'] = 'display_data';\n",
              "        await google.colab.output.renderOutput(dataTable, element);\n",
              "        const docLink = document.createElement('div');\n",
              "        docLink.innerHTML = docLinkHtml;\n",
              "        element.appendChild(docLink);\n",
              "      }\n",
              "    </script>\n",
              "  </div>\n",
              "\n",
              "\n",
              "<div id=\"df-1c880f2e-d205-4984-8c8b-3d51722c3df3\">\n",
              "  <button class=\"colab-df-quickchart\" onclick=\"quickchart('df-1c880f2e-d205-4984-8c8b-3d51722c3df3')\"\n",
              "            title=\"Suggest charts\"\n",
              "            style=\"display:none;\">\n",
              "\n",
              "<svg xmlns=\"http://www.w3.org/2000/svg\" height=\"24px\"viewBox=\"0 0 24 24\"\n",
              "     width=\"24px\">\n",
              "    <g>\n",
              "        <path d=\"M19 3H5c-1.1 0-2 .9-2 2v14c0 1.1.9 2 2 2h14c1.1 0 2-.9 2-2V5c0-1.1-.9-2-2-2zM9 17H7v-7h2v7zm4 0h-2V7h2v10zm4 0h-2v-4h2v4z\"/>\n",
              "    </g>\n",
              "</svg>\n",
              "  </button>\n",
              "\n",
              "<style>\n",
              "  .colab-df-quickchart {\n",
              "      --bg-color: #E8F0FE;\n",
              "      --fill-color: #1967D2;\n",
              "      --hover-bg-color: #E2EBFA;\n",
              "      --hover-fill-color: #174EA6;\n",
              "      --disabled-fill-color: #AAA;\n",
              "      --disabled-bg-color: #DDD;\n",
              "  }\n",
              "\n",
              "  [theme=dark] .colab-df-quickchart {\n",
              "      --bg-color: #3B4455;\n",
              "      --fill-color: #D2E3FC;\n",
              "      --hover-bg-color: #434B5C;\n",
              "      --hover-fill-color: #FFFFFF;\n",
              "      --disabled-bg-color: #3B4455;\n",
              "      --disabled-fill-color: #666;\n",
              "  }\n",
              "\n",
              "  .colab-df-quickchart {\n",
              "    background-color: var(--bg-color);\n",
              "    border: none;\n",
              "    border-radius: 50%;\n",
              "    cursor: pointer;\n",
              "    display: none;\n",
              "    fill: var(--fill-color);\n",
              "    height: 32px;\n",
              "    padding: 0;\n",
              "    width: 32px;\n",
              "  }\n",
              "\n",
              "  .colab-df-quickchart:hover {\n",
              "    background-color: var(--hover-bg-color);\n",
              "    box-shadow: 0 1px 2px rgba(60, 64, 67, 0.3), 0 1px 3px 1px rgba(60, 64, 67, 0.15);\n",
              "    fill: var(--button-hover-fill-color);\n",
              "  }\n",
              "\n",
              "  .colab-df-quickchart-complete:disabled,\n",
              "  .colab-df-quickchart-complete:disabled:hover {\n",
              "    background-color: var(--disabled-bg-color);\n",
              "    fill: var(--disabled-fill-color);\n",
              "    box-shadow: none;\n",
              "  }\n",
              "\n",
              "  .colab-df-spinner {\n",
              "    border: 2px solid var(--fill-color);\n",
              "    border-color: transparent;\n",
              "    border-bottom-color: var(--fill-color);\n",
              "    animation:\n",
              "      spin 1s steps(1) infinite;\n",
              "  }\n",
              "\n",
              "  @keyframes spin {\n",
              "    0% {\n",
              "      border-color: transparent;\n",
              "      border-bottom-color: var(--fill-color);\n",
              "      border-left-color: var(--fill-color);\n",
              "    }\n",
              "    20% {\n",
              "      border-color: transparent;\n",
              "      border-left-color: var(--fill-color);\n",
              "      border-top-color: var(--fill-color);\n",
              "    }\n",
              "    30% {\n",
              "      border-color: transparent;\n",
              "      border-left-color: var(--fill-color);\n",
              "      border-top-color: var(--fill-color);\n",
              "      border-right-color: var(--fill-color);\n",
              "    }\n",
              "    40% {\n",
              "      border-color: transparent;\n",
              "      border-right-color: var(--fill-color);\n",
              "      border-top-color: var(--fill-color);\n",
              "    }\n",
              "    60% {\n",
              "      border-color: transparent;\n",
              "      border-right-color: var(--fill-color);\n",
              "    }\n",
              "    80% {\n",
              "      border-color: transparent;\n",
              "      border-right-color: var(--fill-color);\n",
              "      border-bottom-color: var(--fill-color);\n",
              "    }\n",
              "    90% {\n",
              "      border-color: transparent;\n",
              "      border-bottom-color: var(--fill-color);\n",
              "    }\n",
              "  }\n",
              "</style>\n",
              "\n",
              "  <script>\n",
              "    async function quickchart(key) {\n",
              "      const quickchartButtonEl =\n",
              "        document.querySelector('#' + key + ' button');\n",
              "      quickchartButtonEl.disabled = true;  // To prevent multiple clicks.\n",
              "      quickchartButtonEl.classList.add('colab-df-spinner');\n",
              "      try {\n",
              "        const charts = await google.colab.kernel.invokeFunction(\n",
              "            'suggestCharts', [key], {});\n",
              "      } catch (error) {\n",
              "        console.error('Error during call to suggestCharts:', error);\n",
              "      }\n",
              "      quickchartButtonEl.classList.remove('colab-df-spinner');\n",
              "      quickchartButtonEl.classList.add('colab-df-quickchart-complete');\n",
              "    }\n",
              "    (() => {\n",
              "      let quickchartButtonEl =\n",
              "        document.querySelector('#df-1c880f2e-d205-4984-8c8b-3d51722c3df3 button');\n",
              "      quickchartButtonEl.style.display =\n",
              "        google.colab.kernel.accessAllowed ? 'block' : 'none';\n",
              "    })();\n",
              "  </script>\n",
              "</div>\n",
              "\n",
              "    </div>\n",
              "  </div>\n"
            ],
            "application/vnd.google.colaboratory.intrinsic+json": {
              "type": "dataframe"
            }
          },
          "metadata": {},
          "execution_count": 1995
        }
      ]
    },
    {
      "cell_type": "code",
      "source": [
        "df.isna().sum()"
      ],
      "metadata": {
        "colab": {
          "base_uri": "https://localhost:8080/",
          "height": 458
        },
        "id": "62FTeoQ1Ye-J",
        "outputId": "8911505b-9234-472c-eb7d-946c01c7553d"
      },
      "execution_count": null,
      "outputs": [
        {
          "output_type": "execute_result",
          "data": {
            "text/plain": [
              "main.disorder            0\n",
              "AB.A.delta.a.FP1         0\n",
              "AB.A.delta.b.FP2         0\n",
              "AB.A.delta.c.F7          0\n",
              "AB.A.delta.d.F3          0\n",
              "                        ..\n",
              "COH.F.gamma.p.P4.r.O1    0\n",
              "COH.F.gamma.p.P4.s.O2    0\n",
              "COH.F.gamma.q.T6.r.O1    0\n",
              "COH.F.gamma.q.T6.s.O2    0\n",
              "COH.F.gamma.r.O1.s.O2    0\n",
              "Length: 1141, dtype: int64"
            ],
            "text/html": [
              "<div>\n",
              "<style scoped>\n",
              "    .dataframe tbody tr th:only-of-type {\n",
              "        vertical-align: middle;\n",
              "    }\n",
              "\n",
              "    .dataframe tbody tr th {\n",
              "        vertical-align: top;\n",
              "    }\n",
              "\n",
              "    .dataframe thead th {\n",
              "        text-align: right;\n",
              "    }\n",
              "</style>\n",
              "<table border=\"1\" class=\"dataframe\">\n",
              "  <thead>\n",
              "    <tr style=\"text-align: right;\">\n",
              "      <th></th>\n",
              "      <th>0</th>\n",
              "    </tr>\n",
              "  </thead>\n",
              "  <tbody>\n",
              "    <tr>\n",
              "      <th>main.disorder</th>\n",
              "      <td>0</td>\n",
              "    </tr>\n",
              "    <tr>\n",
              "      <th>AB.A.delta.a.FP1</th>\n",
              "      <td>0</td>\n",
              "    </tr>\n",
              "    <tr>\n",
              "      <th>AB.A.delta.b.FP2</th>\n",
              "      <td>0</td>\n",
              "    </tr>\n",
              "    <tr>\n",
              "      <th>AB.A.delta.c.F7</th>\n",
              "      <td>0</td>\n",
              "    </tr>\n",
              "    <tr>\n",
              "      <th>AB.A.delta.d.F3</th>\n",
              "      <td>0</td>\n",
              "    </tr>\n",
              "    <tr>\n",
              "      <th>...</th>\n",
              "      <td>...</td>\n",
              "    </tr>\n",
              "    <tr>\n",
              "      <th>COH.F.gamma.p.P4.r.O1</th>\n",
              "      <td>0</td>\n",
              "    </tr>\n",
              "    <tr>\n",
              "      <th>COH.F.gamma.p.P4.s.O2</th>\n",
              "      <td>0</td>\n",
              "    </tr>\n",
              "    <tr>\n",
              "      <th>COH.F.gamma.q.T6.r.O1</th>\n",
              "      <td>0</td>\n",
              "    </tr>\n",
              "    <tr>\n",
              "      <th>COH.F.gamma.q.T6.s.O2</th>\n",
              "      <td>0</td>\n",
              "    </tr>\n",
              "    <tr>\n",
              "      <th>COH.F.gamma.r.O1.s.O2</th>\n",
              "      <td>0</td>\n",
              "    </tr>\n",
              "  </tbody>\n",
              "</table>\n",
              "<p>1141 rows × 1 columns</p>\n",
              "</div><br><label><b>dtype:</b> int64</label>"
            ]
          },
          "metadata": {},
          "execution_count": 1996
        }
      ]
    },
    {
      "cell_type": "markdown",
      "source": [
        "# Splitting and Standardizing Data\n",
        "\n"
      ],
      "metadata": {
        "id": "Ef6XiqBru9Jk"
      }
    },
    {
      "cell_type": "code",
      "source": [
        "from sklearn.model_selection import train_test_split\n",
        "from sklearn.preprocessing import StandardScaler\n"
      ],
      "metadata": {
        "id": "XIEzVHcJvKXy"
      },
      "execution_count": null,
      "outputs": []
    },
    {
      "cell_type": "code",
      "source": [
        "y = df[\"main.disorder\"].values.ravel()\n",
        "x = df.drop([\"main.disorder\"], axis=1)"
      ],
      "metadata": {
        "id": "rlIEfwX0w8RU"
      },
      "execution_count": null,
      "outputs": []
    },
    {
      "cell_type": "code",
      "source": [
        "x_train, x_test, y_train, y_test = train_test_split(x, y, test_size=0.2, random_state = 0)"
      ],
      "metadata": {
        "id": "WTBsOiNiw3Od"
      },
      "execution_count": null,
      "outputs": []
    },
    {
      "cell_type": "code",
      "source": [
        "## STANDARDIZING X_TRAIN AND X_TEST\n",
        "scaler = StandardScaler()\n",
        "x_train_scaled = scaler.fit_transform(x_train)\n",
        "x_test_scaled = scaler.transform(x_test)"
      ],
      "metadata": {
        "id": "tr-QwRYUwMyp"
      },
      "execution_count": null,
      "outputs": []
    },
    {
      "cell_type": "markdown",
      "source": [
        "# Support Vector Machine"
      ],
      "metadata": {
        "id": "e2GaycmH3zqH"
      }
    },
    {
      "cell_type": "code",
      "source": [
        "from sklearn.svm import SVC"
      ],
      "metadata": {
        "id": "PYKwK1G_380T"
      },
      "execution_count": null,
      "outputs": []
    },
    {
      "cell_type": "code",
      "source": [
        "svc_model = SVC(kernel = 'poly', degree = 4)"
      ],
      "metadata": {
        "id": "5pOsI0-r39W0"
      },
      "execution_count": null,
      "outputs": []
    },
    {
      "cell_type": "code",
      "source": [
        "svc_model.fit(x_train_scaled, y_train)\n",
        "y_pred = svc_model.predict(x_test_scaled)"
      ],
      "metadata": {
        "id": "qXvkw9G43-yd"
      },
      "execution_count": null,
      "outputs": []
    },
    {
      "cell_type": "markdown",
      "source": [
        "Determining Accuracy"
      ],
      "metadata": {
        "id": "8wL9Hw_U41BJ"
      }
    },
    {
      "cell_type": "code",
      "source": [
        "from sklearn.metrics import confusion_matrix"
      ],
      "metadata": {
        "id": "bQPxkwFi4FKu"
      },
      "execution_count": null,
      "outputs": []
    },
    {
      "cell_type": "code",
      "source": [
        "cm = confusion_matrix(y_test, y_pred)\n",
        "print(\"Confusion Matrix:\\n\", cm)"
      ],
      "metadata": {
        "colab": {
          "base_uri": "https://localhost:8080/"
        },
        "id": "LJf2LWgs4G2a",
        "outputId": "68ef70a2-232a-4798-a607-e4a09ca09f01"
      },
      "execution_count": null,
      "outputs": [
        {
          "output_type": "stream",
          "name": "stdout",
          "text": [
            "Confusion Matrix:\n",
            " [[ 1 21  1  0  1  0  1]\n",
            " [ 2 47  1  0  0  1  0]\n",
            " [ 0 17  0  0  1  0  0]\n",
            " [ 0  4  0  0  0  1  0]\n",
            " [ 1 13  0  0  0  0  0]\n",
            " [ 1 17  0  0  0  0  1]\n",
            " [ 0 35  1  1  0  1  1]]\n"
          ]
        }
      ]
    },
    {
      "cell_type": "code",
      "source": [
        "accuracy = np.trace(cm) / np.sum(cm) ## sum of all diagonal elements / sum of all elements in matrix\n",
        "print(\"Accuracy:\", accuracy)"
      ],
      "metadata": {
        "colab": {
          "base_uri": "https://localhost:8080/"
        },
        "id": "QnTr_Nra4HU9",
        "outputId": "9aed3857-cbf9-45fd-fa0b-76f6b4c53346"
      },
      "execution_count": null,
      "outputs": [
        {
          "output_type": "stream",
          "name": "stdout",
          "text": [
            "Accuracy: 0.28654970760233917\n"
          ]
        }
      ]
    },
    {
      "cell_type": "code",
      "source": [
        "print(classification_report(y_test, y_pred, zero_division=0))"
      ],
      "metadata": {
        "colab": {
          "base_uri": "https://localhost:8080/"
        },
        "id": "bKpISyer4K_T",
        "outputId": "5f4cce36-03f7-461d-e1a0-484ede3de1bc"
      },
      "execution_count": null,
      "outputs": [
        {
          "output_type": "stream",
          "name": "stdout",
          "text": [
            "              precision    recall  f1-score   support\n",
            "\n",
            "           0       0.20      0.04      0.07        25\n",
            "           1       0.31      0.92      0.46        51\n",
            "           2       0.00      0.00      0.00        18\n",
            "           3       0.00      0.00      0.00         5\n",
            "           4       0.00      0.00      0.00        14\n",
            "           5       0.00      0.00      0.00        19\n",
            "           6       0.33      0.03      0.05        39\n",
            "\n",
            "    accuracy                           0.29       171\n",
            "   macro avg       0.12      0.14      0.08       171\n",
            "weighted avg       0.20      0.29      0.16       171\n",
            "\n"
          ]
        }
      ]
    },
    {
      "cell_type": "markdown",
      "source": [
        "# Decision Tree Model"
      ],
      "metadata": {
        "id": "QxEUkYQe0hII"
      }
    },
    {
      "cell_type": "code",
      "source": [
        "from sklearn.tree import DecisionTreeClassifier"
      ],
      "metadata": {
        "id": "cyBP-0b_xani"
      },
      "execution_count": null,
      "outputs": []
    },
    {
      "cell_type": "code",
      "source": [
        "dt_model = DecisionTreeClassifier(max_depth = 25)"
      ],
      "metadata": {
        "id": "xL0xBr4Wxb7s"
      },
      "execution_count": null,
      "outputs": []
    },
    {
      "cell_type": "code",
      "source": [
        "\n",
        "dt_model.fit(x_train, y_train)\n",
        "y_pred = dt_model.predict(x_test)"
      ],
      "metadata": {
        "id": "4QpdjhcPxd4v"
      },
      "execution_count": null,
      "outputs": []
    },
    {
      "cell_type": "markdown",
      "source": [
        "Determining Accuracy"
      ],
      "metadata": {
        "id": "byYifFbP4yTF"
      }
    },
    {
      "cell_type": "code",
      "source": [
        "from sklearn.metrics import confusion_matrix"
      ],
      "metadata": {
        "id": "GEjzno5kxowA"
      },
      "execution_count": null,
      "outputs": []
    },
    {
      "cell_type": "code",
      "source": [
        "cm = confusion_matrix(y_test, y_pred)\n",
        "print(\"Confusion Matrix:\\n\", cm)"
      ],
      "metadata": {
        "colab": {
          "base_uri": "https://localhost:8080/"
        },
        "id": "FG19kf0qxqFc",
        "outputId": "909bf788-9e8c-440d-9e0d-7c6a80d0cefc"
      },
      "execution_count": null,
      "outputs": [
        {
          "output_type": "stream",
          "name": "stdout",
          "text": [
            "Confusion Matrix:\n",
            " [[ 2  6  1  1  5  3  7]\n",
            " [ 5 15  5  2  5  8 11]\n",
            " [ 2  4  3  1  2  1  5]\n",
            " [ 0  2  0  0  0  0  3]\n",
            " [ 0  1  1  3  2  3  4]\n",
            " [ 1  9  2  0  2  2  3]\n",
            " [ 3 13  8  1  3  2  9]]\n"
          ]
        }
      ]
    },
    {
      "cell_type": "code",
      "source": [
        "accuracy = np.trace(cm) / np.sum(cm) ## sum of all diagonal elements / sum of all elements in matrix\n",
        "print(\"Accuracy:\", accuracy)"
      ],
      "metadata": {
        "colab": {
          "base_uri": "https://localhost:8080/"
        },
        "id": "e0lJCiuQyjM9",
        "outputId": "c3cf229c-b8dd-413f-9119-26fc06da5183"
      },
      "execution_count": null,
      "outputs": [
        {
          "output_type": "stream",
          "name": "stdout",
          "text": [
            "Accuracy: 0.19298245614035087\n"
          ]
        }
      ]
    },
    {
      "cell_type": "code",
      "source": [
        "from sklearn.metrics import classification_report\n",
        "\n",
        "print(classification_report(y_test, y_pred, zero_division=0))"
      ],
      "metadata": {
        "colab": {
          "base_uri": "https://localhost:8080/"
        },
        "id": "Na3qgmdPyPdC",
        "outputId": "3b57b0a7-6562-410c-f542-a39aa9ca47eb"
      },
      "execution_count": null,
      "outputs": [
        {
          "output_type": "stream",
          "name": "stdout",
          "text": [
            "              precision    recall  f1-score   support\n",
            "\n",
            "           0       0.15      0.08      0.11        25\n",
            "           1       0.30      0.29      0.30        51\n",
            "           2       0.15      0.17      0.16        18\n",
            "           3       0.00      0.00      0.00         5\n",
            "           4       0.11      0.14      0.12        14\n",
            "           5       0.11      0.11      0.11        19\n",
            "           6       0.21      0.23      0.22        39\n",
            "\n",
            "    accuracy                           0.19       171\n",
            "   macro avg       0.15      0.15      0.14       171\n",
            "weighted avg       0.20      0.19      0.19       171\n",
            "\n"
          ]
        }
      ]
    },
    {
      "cell_type": "markdown",
      "source": [
        "# Random Forest Classifier"
      ],
      "metadata": {
        "id": "M2kOtIKq4_J3"
      }
    },
    {
      "cell_type": "code",
      "source": [
        "from sklearn.ensemble import RandomForestClassifier"
      ],
      "metadata": {
        "id": "jr2KMlNP4ZIL"
      },
      "execution_count": null,
      "outputs": []
    },
    {
      "cell_type": "code",
      "source": [
        "rfc_model = RandomForestClassifier(n_estimators = 100, max_depth = 25)"
      ],
      "metadata": {
        "id": "U7nKCoQf4at1"
      },
      "execution_count": null,
      "outputs": []
    },
    {
      "cell_type": "code",
      "source": [
        "rfc_model.fit(x_train, y_train)\n",
        "y_pred = rfc_model.predict(x_test)"
      ],
      "metadata": {
        "id": "96H4lckF4c41"
      },
      "execution_count": null,
      "outputs": []
    },
    {
      "cell_type": "markdown",
      "source": [
        "Determining Accuracy"
      ],
      "metadata": {
        "id": "eyh9OZ0j4rQQ"
      }
    },
    {
      "cell_type": "code",
      "source": [
        "from sklearn.metrics import confusion_matrix"
      ],
      "metadata": {
        "id": "WCh_O5nD4hqP"
      },
      "execution_count": null,
      "outputs": []
    },
    {
      "cell_type": "code",
      "source": [
        "cm = confusion_matrix(y_test, y_pred)\n",
        "print(\"Confusion Matrix:\\n\", cm)"
      ],
      "metadata": {
        "colab": {
          "base_uri": "https://localhost:8080/"
        },
        "id": "DWts8WtP4jU-",
        "outputId": "766b80b4-9baf-4139-c023-02b9b3ea86e2"
      },
      "execution_count": null,
      "outputs": [
        {
          "output_type": "stream",
          "name": "stdout",
          "text": [
            "Confusion Matrix:\n",
            " [[ 1 14  2  0  2  0  6]\n",
            " [ 0 35  0  0  0  1 15]\n",
            " [ 0 12  1  0  1  0  4]\n",
            " [ 0  2  0  0  0  0  3]\n",
            " [ 0 11  1  0  1  0  1]\n",
            " [ 1 17  0  0  0  0  1]\n",
            " [ 0 29  2  0  0  0  8]]\n"
          ]
        }
      ]
    },
    {
      "cell_type": "code",
      "source": [
        "accuracy = np.trace(cm) / np.sum(cm) ## sum of all diagonal elements / sum of all elements in matrix\n",
        "print(\"Accuracy:\", accuracy)"
      ],
      "metadata": {
        "colab": {
          "base_uri": "https://localhost:8080/"
        },
        "id": "I4eWtlAx4lM2",
        "outputId": "49dd67e1-4577-4403-ff9e-6e6770b18f29"
      },
      "execution_count": null,
      "outputs": [
        {
          "output_type": "stream",
          "name": "stdout",
          "text": [
            "Accuracy: 0.26900584795321636\n"
          ]
        }
      ]
    },
    {
      "cell_type": "code",
      "source": [
        "from sklearn.metrics import classification_report\n",
        "\n",
        "print(classification_report(y_test, y_pred, zero_division=0))"
      ],
      "metadata": {
        "colab": {
          "base_uri": "https://localhost:8080/"
        },
        "id": "TwJ25xSt4m-W",
        "outputId": "2b492f30-4ff6-409a-fb98-b661db7d6950"
      },
      "execution_count": null,
      "outputs": [
        {
          "output_type": "stream",
          "name": "stdout",
          "text": [
            "              precision    recall  f1-score   support\n",
            "\n",
            "           0       0.50      0.04      0.07        25\n",
            "           1       0.29      0.69      0.41        51\n",
            "           2       0.17      0.06      0.08        18\n",
            "           3       0.00      0.00      0.00         5\n",
            "           4       0.25      0.07      0.11        14\n",
            "           5       0.00      0.00      0.00        19\n",
            "           6       0.21      0.21      0.21        39\n",
            "\n",
            "    accuracy                           0.27       171\n",
            "   macro avg       0.20      0.15      0.13       171\n",
            "weighted avg       0.25      0.27      0.20       171\n",
            "\n"
          ]
        }
      ]
    },
    {
      "cell_type": "markdown",
      "source": [
        "# Neural Network"
      ],
      "metadata": {
        "id": "s4Rhve7K6ioN"
      }
    },
    {
      "cell_type": "code",
      "source": [
        "import pandas as pd\n",
        "import numpy as np\n",
        "import tensorflow as tf"
      ],
      "metadata": {
        "id": "XDJ8bBN86nA8"
      },
      "execution_count": null,
      "outputs": []
    },
    {
      "cell_type": "code",
      "source": [
        "model = tf.keras.Sequential()\n",
        "\n",
        "# Input layer\n",
        "model.add(tf.keras.layers.InputLayer(shape=(x_train_scaled.shape[1],)))\n",
        "\n",
        "# Hidden layers\n",
        "model.add(tf.keras.layers.Dense(64, activation='relu'))\n",
        "model.add(tf.keras.layers.Dense(32, activation='relu'))\n",
        "\n",
        "\n",
        "\n",
        "# Output layer\n",
        "model.add(tf.keras.layers.Dense(7, activation='softmax'))  # For multiclass classification (7 classes)\n",
        "\n",
        "model.compile(optimizer='adam',\n",
        "              loss='sparse_categorical_crossentropy',  # Use sparse_categorical_crossentropy for integer labels\n",
        "              metrics=['accuracy'])\n"
      ],
      "metadata": {
        "id": "v0uUWQwj6txD"
      },
      "execution_count": null,
      "outputs": []
    },
    {
      "cell_type": "code",
      "source": [
        "# Train the model\n",
        "history = model.fit(x_train_scaled, y_train,\n",
        "                    epochs=20,  # Number of epochs\n",
        "                    batch_size=32,  # Batch size\n",
        "                    validation_split=0.2,  # Use a portion of training data for validation\n",
        "                    verbose=1)\n"
      ],
      "metadata": {
        "colab": {
          "base_uri": "https://localhost:8080/"
        },
        "id": "RKTIaLzL64h1",
        "outputId": "e9f18467-b000-49c8-e633-c37ad4ca5f64"
      },
      "execution_count": null,
      "outputs": [
        {
          "output_type": "stream",
          "name": "stdout",
          "text": [
            "Epoch 1/20\n",
            "\u001b[1m17/17\u001b[0m \u001b[32m━━━━━━━━━━━━━━━━━━━━\u001b[0m\u001b[37m\u001b[0m \u001b[1m2s\u001b[0m 22ms/step - accuracy: 0.2067 - loss: 2.2440 - val_accuracy: 0.2117 - val_loss: 2.1673\n",
            "Epoch 2/20\n",
            "\u001b[1m17/17\u001b[0m \u001b[32m━━━━━━━━━━━━━━━━━━━━\u001b[0m\u001b[37m\u001b[0m \u001b[1m0s\u001b[0m 8ms/step - accuracy: 0.3389 - loss: 1.7159 - val_accuracy: 0.2701 - val_loss: 2.2001\n",
            "Epoch 3/20\n",
            "\u001b[1m17/17\u001b[0m \u001b[32m━━━━━━━━━━━━━━━━━━━━\u001b[0m\u001b[37m\u001b[0m \u001b[1m0s\u001b[0m 10ms/step - accuracy: 0.4589 - loss: 1.4798 - val_accuracy: 0.2409 - val_loss: 2.2071\n",
            "Epoch 4/20\n",
            "\u001b[1m17/17\u001b[0m \u001b[32m━━━━━━━━━━━━━━━━━━━━\u001b[0m\u001b[37m\u001b[0m \u001b[1m0s\u001b[0m 8ms/step - accuracy: 0.5940 - loss: 1.1998 - val_accuracy: 0.2336 - val_loss: 2.2044\n",
            "Epoch 5/20\n",
            "\u001b[1m17/17\u001b[0m \u001b[32m━━━━━━━━━━━━━━━━━━━━\u001b[0m\u001b[37m\u001b[0m \u001b[1m0s\u001b[0m 11ms/step - accuracy: 0.6120 - loss: 1.1085 - val_accuracy: 0.2409 - val_loss: 2.2849\n",
            "Epoch 6/20\n",
            "\u001b[1m17/17\u001b[0m \u001b[32m━━━━━━━━━━━━━━━━━━━━\u001b[0m\u001b[37m\u001b[0m \u001b[1m0s\u001b[0m 10ms/step - accuracy: 0.6647 - loss: 1.0292 - val_accuracy: 0.2628 - val_loss: 2.4167\n",
            "Epoch 7/20\n",
            "\u001b[1m17/17\u001b[0m \u001b[32m━━━━━━━━━━━━━━━━━━━━\u001b[0m\u001b[37m\u001b[0m \u001b[1m0s\u001b[0m 8ms/step - accuracy: 0.7090 - loss: 0.9336 - val_accuracy: 0.2482 - val_loss: 2.3193\n",
            "Epoch 8/20\n",
            "\u001b[1m17/17\u001b[0m \u001b[32m━━━━━━━━━━━━━━━━━━━━\u001b[0m\u001b[37m\u001b[0m \u001b[1m0s\u001b[0m 9ms/step - accuracy: 0.7476 - loss: 0.8550 - val_accuracy: 0.2190 - val_loss: 2.4339\n",
            "Epoch 9/20\n",
            "\u001b[1m17/17\u001b[0m \u001b[32m━━━━━━━━━━━━━━━━━━━━\u001b[0m\u001b[37m\u001b[0m \u001b[1m0s\u001b[0m 8ms/step - accuracy: 0.8084 - loss: 0.7651 - val_accuracy: 0.2190 - val_loss: 2.5079\n",
            "Epoch 10/20\n",
            "\u001b[1m17/17\u001b[0m \u001b[32m━━━━━━━━━━━━━━━━━━━━\u001b[0m\u001b[37m\u001b[0m \u001b[1m0s\u001b[0m 9ms/step - accuracy: 0.8498 - loss: 0.6421 - val_accuracy: 0.2482 - val_loss: 2.7043\n",
            "Epoch 11/20\n",
            "\u001b[1m17/17\u001b[0m \u001b[32m━━━━━━━━━━━━━━━━━━━━\u001b[0m\u001b[37m\u001b[0m \u001b[1m0s\u001b[0m 8ms/step - accuracy: 0.8595 - loss: 0.5937 - val_accuracy: 0.2336 - val_loss: 2.6437\n",
            "Epoch 12/20\n",
            "\u001b[1m17/17\u001b[0m \u001b[32m━━━━━━━━━━━━━━━━━━━━\u001b[0m\u001b[37m\u001b[0m \u001b[1m0s\u001b[0m 8ms/step - accuracy: 0.9254 - loss: 0.4469 - val_accuracy: 0.2555 - val_loss: 2.6998\n",
            "Epoch 13/20\n",
            "\u001b[1m17/17\u001b[0m \u001b[32m━━━━━━━━━━━━━━━━━━━━\u001b[0m\u001b[37m\u001b[0m \u001b[1m0s\u001b[0m 8ms/step - accuracy: 0.9457 - loss: 0.4157 - val_accuracy: 0.2409 - val_loss: 2.7459\n",
            "Epoch 14/20\n",
            "\u001b[1m17/17\u001b[0m \u001b[32m━━━━━━━━━━━━━━━━━━━━\u001b[0m\u001b[37m\u001b[0m \u001b[1m0s\u001b[0m 8ms/step - accuracy: 0.9718 - loss: 0.3449 - val_accuracy: 0.2263 - val_loss: 2.9401\n",
            "Epoch 15/20\n",
            "\u001b[1m17/17\u001b[0m \u001b[32m━━━━━━━━━━━━━━━━━━━━\u001b[0m\u001b[37m\u001b[0m \u001b[1m0s\u001b[0m 9ms/step - accuracy: 0.9549 - loss: 0.3138 - val_accuracy: 0.2336 - val_loss: 2.9427\n",
            "Epoch 16/20\n",
            "\u001b[1m17/17\u001b[0m \u001b[32m━━━━━━━━━━━━━━━━━━━━\u001b[0m\u001b[37m\u001b[0m \u001b[1m0s\u001b[0m 9ms/step - accuracy: 0.9854 - loss: 0.2530 - val_accuracy: 0.2336 - val_loss: 3.0188\n",
            "Epoch 17/20\n",
            "\u001b[1m17/17\u001b[0m \u001b[32m━━━━━━━━━━━━━━━━━━━━\u001b[0m\u001b[37m\u001b[0m \u001b[1m0s\u001b[0m 8ms/step - accuracy: 0.9957 - loss: 0.1878 - val_accuracy: 0.2263 - val_loss: 3.0955\n",
            "Epoch 18/20\n",
            "\u001b[1m17/17\u001b[0m \u001b[32m━━━━━━━━━━━━━━━━━━━━\u001b[0m\u001b[37m\u001b[0m \u001b[1m0s\u001b[0m 9ms/step - accuracy: 0.9954 - loss: 0.1742 - val_accuracy: 0.2190 - val_loss: 3.2597\n",
            "Epoch 19/20\n",
            "\u001b[1m17/17\u001b[0m \u001b[32m━━━━━━━━━━━━━━━━━━━━\u001b[0m\u001b[37m\u001b[0m \u001b[1m0s\u001b[0m 8ms/step - accuracy: 0.9961 - loss: 0.1661 - val_accuracy: 0.2190 - val_loss: 3.2168\n",
            "Epoch 20/20\n",
            "\u001b[1m17/17\u001b[0m \u001b[32m━━━━━━━━━━━━━━━━━━━━\u001b[0m\u001b[37m\u001b[0m \u001b[1m0s\u001b[0m 11ms/step - accuracy: 0.9957 - loss: 0.1208 - val_accuracy: 0.2190 - val_loss: 3.3979\n"
          ]
        }
      ]
    },
    {
      "cell_type": "code",
      "source": [
        "# Make predictions on the test data\n",
        "y_pred = np.argmax(model.predict(x_test_scaled), axis=-1)\n"
      ],
      "metadata": {
        "colab": {
          "base_uri": "https://localhost:8080/"
        },
        "id": "0HBFk_cY7DX3",
        "outputId": "e7bf0673-07b9-440f-fe55-de49aadefb74"
      },
      "execution_count": null,
      "outputs": [
        {
          "output_type": "stream",
          "name": "stdout",
          "text": [
            "\u001b[1m6/6\u001b[0m \u001b[32m━━━━━━━━━━━━━━━━━━━━\u001b[0m\u001b[37m\u001b[0m \u001b[1m0s\u001b[0m 13ms/step\n"
          ]
        }
      ]
    },
    {
      "cell_type": "code",
      "source": [
        "from sklearn.metrics import confusion_matrix"
      ],
      "metadata": {
        "id": "rUJ0ypyi7IEn"
      },
      "execution_count": null,
      "outputs": []
    },
    {
      "cell_type": "code",
      "source": [
        "cm = confusion_matrix(y_test, y_pred)\n",
        "print(\"Confusion Matrix:\\n\", cm)"
      ],
      "metadata": {
        "colab": {
          "base_uri": "https://localhost:8080/"
        },
        "id": "PIv6_Non7K9J",
        "outputId": "b671a2e1-4159-4c7f-8ac7-46aa16795bf7"
      },
      "execution_count": null,
      "outputs": [
        {
          "output_type": "stream",
          "name": "stdout",
          "text": [
            "Confusion Matrix:\n",
            " [[ 3  8  2  1  3  3  5]\n",
            " [ 4 15  8  3  9  5  7]\n",
            " [ 1  3  7  2  1  0  4]\n",
            " [ 0  3  0  0  0  0  2]\n",
            " [ 1  7  1  0  4  0  1]\n",
            " [ 2 10  1  0  3  2  1]\n",
            " [ 2 14  6  2  5  6  4]]\n"
          ]
        }
      ]
    },
    {
      "cell_type": "code",
      "source": [
        "accuracy = np.trace(cm) / np.sum(cm) ## sum of all diagonal elements / sum of all elements in matrix\n",
        "print(\"Accuracy:\", accuracy)"
      ],
      "metadata": {
        "colab": {
          "base_uri": "https://localhost:8080/"
        },
        "id": "RzL075T77M9r",
        "outputId": "0e9a5b15-f499-41b8-aa9a-52ec98c4103c"
      },
      "execution_count": null,
      "outputs": [
        {
          "output_type": "stream",
          "name": "stdout",
          "text": [
            "Accuracy: 0.2046783625730994\n"
          ]
        }
      ]
    },
    {
      "cell_type": "code",
      "source": [
        "from sklearn.metrics import classification_report\n",
        "\n",
        "print(classification_report(y_test, y_pred, zero_division=0))\n"
      ],
      "metadata": {
        "colab": {
          "base_uri": "https://localhost:8080/"
        },
        "id": "gEyETgcx7PGm",
        "outputId": "ca139c90-4e38-4ed4-8684-570d0aac51d0"
      },
      "execution_count": null,
      "outputs": [
        {
          "output_type": "stream",
          "name": "stdout",
          "text": [
            "              precision    recall  f1-score   support\n",
            "\n",
            "           0       0.23      0.12      0.16        25\n",
            "           1       0.25      0.29      0.27        51\n",
            "           2       0.28      0.39      0.33        18\n",
            "           3       0.00      0.00      0.00         5\n",
            "           4       0.16      0.29      0.21        14\n",
            "           5       0.12      0.11      0.11        19\n",
            "           6       0.17      0.10      0.13        39\n",
            "\n",
            "    accuracy                           0.20       171\n",
            "   macro avg       0.17      0.19      0.17       171\n",
            "weighted avg       0.20      0.20      0.20       171\n",
            "\n"
          ]
        }
      ]
    },
    {
      "cell_type": "markdown",
      "source": [
        "# Convolutional Neural Network"
      ],
      "metadata": {
        "id": "1uhff9gZ-Nxx"
      }
    },
    {
      "cell_type": "code",
      "source": [
        "import tensorflow as tf\n",
        "from sklearn.preprocessing import StandardScaler\n",
        "import numpy as np\n",
        "from tensorflow.keras.regularizers import l2\n"
      ],
      "metadata": {
        "id": "40Cla09r-Rql"
      },
      "execution_count": null,
      "outputs": []
    },
    {
      "cell_type": "code",
      "source": [
        "model = tf.keras.Sequential()\n",
        "\n",
        "# First 1D Convolutional Layer\n",
        "model.add(tf.keras.layers.Conv1D(filters=32, kernel_size=3, activation='relu', input_shape=(x_train_scaled.shape[1], 1)))\n",
        "model.add(tf.keras.layers.MaxPooling1D(pool_size=2))\n",
        "\n",
        "# Second 1D Convolutional Layer\n",
        "model.add(tf.keras.layers.Conv1D(filters=64, kernel_size=3, activation='relu'))\n",
        "model.add(tf.keras.layers.MaxPooling1D(pool_size=2))\n",
        "\n",
        "# third 1D convolutional layer\n",
        "model.add(tf.keras.layers.Conv1D(filters=128, kernel_size=3, activation='relu'))\n",
        "model.add(tf.keras.layers.MaxPooling1D(pool_size=2))\n",
        "\n",
        "model.add(tf.keras.layers.Flatten())\n",
        "\n",
        "# fully connected layer\n",
        "model.add(tf.keras.layers.Dense(128, activation='relu', kernel_regularizer=l2(0.01)))\n",
        "\n",
        "# output layer\n",
        "model.add(tf.keras.layers.Dense(7, activation='softmax'))\n",
        "\n",
        "model.compile(optimizer='adam',\n",
        "              loss='sparse_categorical_crossentropy',  # Use categorical crossentropy for multi-class classification\n",
        "              metrics=['accuracy'])\n",
        "\n",
        "# training\n",
        "history = model.fit(x_train_scaled, y_train, epochs=20, batch_size=32, validation_data=(x_test_scaled, y_test))\n"
      ],
      "metadata": {
        "colab": {
          "base_uri": "https://localhost:8080/"
        },
        "id": "6W_1kHXD-Pts",
        "outputId": "b980bd29-95ae-404e-de54-88f147c2fc00"
      },
      "execution_count": null,
      "outputs": [
        {
          "output_type": "stream",
          "name": "stdout",
          "text": [
            "Epoch 1/20\n"
          ]
        },
        {
          "output_type": "stream",
          "name": "stderr",
          "text": [
            "/usr/local/lib/python3.11/dist-packages/keras/src/layers/convolutional/base_conv.py:107: UserWarning: Do not pass an `input_shape`/`input_dim` argument to a layer. When using Sequential models, prefer using an `Input(shape)` object as the first layer in the model instead.\n",
            "  super().__init__(activity_regularizer=activity_regularizer, **kwargs)\n"
          ]
        },
        {
          "output_type": "stream",
          "name": "stdout",
          "text": [
            "\u001b[1m22/22\u001b[0m \u001b[32m━━━━━━━━━━━━━━━━━━━━\u001b[0m\u001b[37m\u001b[0m \u001b[1m7s\u001b[0m 225ms/step - accuracy: 0.1866 - loss: 3.9539 - val_accuracy: 0.2982 - val_loss: 2.4930\n",
            "Epoch 2/20\n",
            "\u001b[1m22/22\u001b[0m \u001b[32m━━━━━━━━━━━━━━━━━━━━\u001b[0m\u001b[37m\u001b[0m \u001b[1m3s\u001b[0m 126ms/step - accuracy: 0.2803 - loss: 2.3817 - val_accuracy: 0.2982 - val_loss: 2.0705\n",
            "Epoch 3/20\n",
            "\u001b[1m22/22\u001b[0m \u001b[32m━━━━━━━━━━━━━━━━━━━━\u001b[0m\u001b[37m\u001b[0m \u001b[1m5s\u001b[0m 132ms/step - accuracy: 0.2849 - loss: 2.0243 - val_accuracy: 0.2982 - val_loss: 1.9678\n",
            "Epoch 4/20\n",
            "\u001b[1m22/22\u001b[0m \u001b[32m━━━━━━━━━━━━━━━━━━━━\u001b[0m\u001b[37m\u001b[0m \u001b[1m4s\u001b[0m 175ms/step - accuracy: 0.2711 - loss: 1.9092 - val_accuracy: 0.2982 - val_loss: 1.9636\n",
            "Epoch 5/20\n",
            "\u001b[1m22/22\u001b[0m \u001b[32m━━━━━━━━━━━━━━━━━━━━\u001b[0m\u001b[37m\u001b[0m \u001b[1m4s\u001b[0m 171ms/step - accuracy: 0.2846 - loss: 1.8523 - val_accuracy: 0.2690 - val_loss: 1.8842\n",
            "Epoch 6/20\n",
            "\u001b[1m22/22\u001b[0m \u001b[32m━━━━━━━━━━━━━━━━━━━━\u001b[0m\u001b[37m\u001b[0m \u001b[1m4s\u001b[0m 126ms/step - accuracy: 0.3579 - loss: 1.7838 - val_accuracy: 0.3041 - val_loss: 1.9496\n",
            "Epoch 7/20\n",
            "\u001b[1m22/22\u001b[0m \u001b[32m━━━━━━━━━━━━━━━━━━━━\u001b[0m\u001b[37m\u001b[0m \u001b[1m3s\u001b[0m 156ms/step - accuracy: 0.3479 - loss: 1.7478 - val_accuracy: 0.2632 - val_loss: 2.0745\n",
            "Epoch 8/20\n",
            "\u001b[1m22/22\u001b[0m \u001b[32m━━━━━━━━━━━━━━━━━━━━\u001b[0m\u001b[37m\u001b[0m \u001b[1m6s\u001b[0m 208ms/step - accuracy: 0.3794 - loss: 1.7497 - val_accuracy: 0.1287 - val_loss: 2.1751\n",
            "Epoch 9/20\n",
            "\u001b[1m22/22\u001b[0m \u001b[32m━━━━━━━━━━━━━━━━━━━━\u001b[0m\u001b[37m\u001b[0m \u001b[1m3s\u001b[0m 127ms/step - accuracy: 0.4481 - loss: 1.6547 - val_accuracy: 0.2515 - val_loss: 2.1594\n",
            "Epoch 10/20\n",
            "\u001b[1m22/22\u001b[0m \u001b[32m━━━━━━━━━━━━━━━━━━━━\u001b[0m\u001b[37m\u001b[0m \u001b[1m5s\u001b[0m 137ms/step - accuracy: 0.4766 - loss: 1.5614 - val_accuracy: 0.2222 - val_loss: 2.2890\n",
            "Epoch 11/20\n",
            "\u001b[1m22/22\u001b[0m \u001b[32m━━━━━━━━━━━━━━━━━━━━\u001b[0m\u001b[37m\u001b[0m \u001b[1m7s\u001b[0m 199ms/step - accuracy: 0.6100 - loss: 1.4151 - val_accuracy: 0.2047 - val_loss: 2.5836\n",
            "Epoch 12/20\n",
            "\u001b[1m22/22\u001b[0m \u001b[32m━━━━━━━━━━━━━━━━━━━━\u001b[0m\u001b[37m\u001b[0m \u001b[1m3s\u001b[0m 130ms/step - accuracy: 0.6833 - loss: 1.3255 - val_accuracy: 0.1813 - val_loss: 2.6819\n",
            "Epoch 13/20\n",
            "\u001b[1m22/22\u001b[0m \u001b[32m━━━━━━━━━━━━━━━━━━━━\u001b[0m\u001b[37m\u001b[0m \u001b[1m3s\u001b[0m 128ms/step - accuracy: 0.7931 - loss: 1.0966 - val_accuracy: 0.1520 - val_loss: 3.0695\n",
            "Epoch 14/20\n",
            "\u001b[1m22/22\u001b[0m \u001b[32m━━━━━━━━━━━━━━━━━━━━\u001b[0m\u001b[37m\u001b[0m \u001b[1m3s\u001b[0m 134ms/step - accuracy: 0.7626 - loss: 1.1684 - val_accuracy: 0.1404 - val_loss: 3.7199\n",
            "Epoch 15/20\n",
            "\u001b[1m22/22\u001b[0m \u001b[32m━━━━━━━━━━━━━━━━━━━━\u001b[0m\u001b[37m\u001b[0m \u001b[1m4s\u001b[0m 198ms/step - accuracy: 0.8612 - loss: 0.9725 - val_accuracy: 0.1228 - val_loss: 3.6161\n",
            "Epoch 16/20\n",
            "\u001b[1m22/22\u001b[0m \u001b[32m━━━━━━━━━━━━━━━━━━━━\u001b[0m\u001b[37m\u001b[0m \u001b[1m3s\u001b[0m 143ms/step - accuracy: 0.9152 - loss: 0.7545 - val_accuracy: 0.1696 - val_loss: 3.5494\n",
            "Epoch 17/20\n",
            "\u001b[1m22/22\u001b[0m \u001b[32m━━━━━━━━━━━━━━━━━━━━\u001b[0m\u001b[37m\u001b[0m \u001b[1m5s\u001b[0m 134ms/step - accuracy: 0.9093 - loss: 0.7351 - val_accuracy: 0.1520 - val_loss: 3.9306\n",
            "Epoch 18/20\n",
            "\u001b[1m22/22\u001b[0m \u001b[32m━━━━━━━━━━━━━━━━━━━━\u001b[0m\u001b[37m\u001b[0m \u001b[1m7s\u001b[0m 201ms/step - accuracy: 0.9528 - loss: 0.6367 - val_accuracy: 0.1579 - val_loss: 3.9811\n",
            "Epoch 19/20\n",
            "\u001b[1m22/22\u001b[0m \u001b[32m━━━━━━━━━━━━━━━━━━━━\u001b[0m\u001b[37m\u001b[0m \u001b[1m4s\u001b[0m 131ms/step - accuracy: 0.9865 - loss: 0.5723 - val_accuracy: 0.1871 - val_loss: 4.4595\n",
            "Epoch 20/20\n",
            "\u001b[1m22/22\u001b[0m \u001b[32m━━━━━━━━━━━━━━━━━━━━\u001b[0m\u001b[37m\u001b[0m \u001b[1m5s\u001b[0m 130ms/step - accuracy: 0.9717 - loss: 0.5308 - val_accuracy: 0.1871 - val_loss: 4.4751\n"
          ]
        }
      ]
    },
    {
      "cell_type": "code",
      "source": [
        "test_loss, test_accuracy = model.evaluate(x_test_scaled, y_test)\n",
        "print(f\"Test Accuracy: {test_accuracy * 100:.2f}%\")"
      ],
      "metadata": {
        "colab": {
          "base_uri": "https://localhost:8080/"
        },
        "id": "ndccgAzV-55N",
        "outputId": "f4510ad9-d824-4e0e-d130-0fac99f22130"
      },
      "execution_count": null,
      "outputs": [
        {
          "output_type": "stream",
          "name": "stdout",
          "text": [
            "\u001b[1m6/6\u001b[0m \u001b[32m━━━━━━━━━━━━━━━━━━━━\u001b[0m\u001b[37m\u001b[0m \u001b[1m0s\u001b[0m 33ms/step - accuracy: 0.1686 - loss: 4.7093\n",
            "Test Accuracy: 18.71%\n"
          ]
        }
      ]
    },
    {
      "cell_type": "markdown",
      "source": [],
      "metadata": {
        "id": "Fbp6bve6Ewzr"
      }
    },
    {
      "cell_type": "markdown",
      "source": [
        "# APPROACH 2: SINGLE CLASSIFICATION"
      ],
      "metadata": {
        "id": "6B9HVeaTEpe0"
      }
    },
    {
      "cell_type": "markdown",
      "source": [
        "# Anxiety Disorder"
      ],
      "metadata": {
        "id": "o81fLPrGEWga"
      }
    },
    {
      "cell_type": "markdown",
      "source": [
        "Preprocessing Data"
      ],
      "metadata": {
        "id": "K4i_lEYaIU9G"
      }
    },
    {
      "cell_type": "code",
      "source": [
        "import pandas as pd\n",
        "import numpy as np\n",
        "\n",
        "anxiety_df = pd.read_csv(\"train_EEG.csv\")\n",
        "anxiety_df.drop(['ID', 'sex', 'age', 'eeg.date', 'IQ', 'education', 'specific.disorder', 'Unnamed: 122'], axis=1, inplace=True) # dropping columns unused in model\n",
        "\n",
        "anxiety_df = anxiety_df[anxiety_df['main.disorder'].isin(['Healthy control', 'Anxiety disorder'])]\n",
        "\n",
        "anxiety_df[\"main.disorder\"] = (anxiety_df['main.disorder'] == 'Anxiety disorder').astype(int)\n",
        "\n"
      ],
      "metadata": {
        "id": "4eSHPI-woEWY"
      },
      "execution_count": null,
      "outputs": []
    },
    {
      "cell_type": "markdown",
      "source": [
        "Standardizing Data"
      ],
      "metadata": {
        "id": "GdSrCpubIYzH"
      }
    },
    {
      "cell_type": "code",
      "source": [
        "from sklearn.model_selection import train_test_split\n",
        "from sklearn.preprocessing import StandardScaler\n",
        "\n",
        "y = anxiety_df[\"main.disorder\"].values.ravel()\n",
        "x = anxiety_df.drop([\"main.disorder\"], axis=1)\n",
        "\n",
        "x_train, x_test, y_train, y_test = train_test_split(x, y, test_size=0.3, random_state = 0)\n",
        "\n",
        "## STANDARDIZING X_TRAIN AND X_TEST\n",
        "scaler = StandardScaler()\n",
        "x_train_scaled = scaler.fit_transform(x_train)\n",
        "x_test_scaled = scaler.transform(x_test)"
      ],
      "metadata": {
        "id": "4mZ8O9eFEyjY"
      },
      "execution_count": null,
      "outputs": []
    },
    {
      "cell_type": "markdown",
      "source": [
        "Support Vector Machine"
      ],
      "metadata": {
        "id": "sQNr0oLvIcas"
      }
    },
    {
      "cell_type": "code",
      "source": [
        "from sklearn.svm import SVC\n",
        "\n",
        "svc_model = SVC(kernel = 'poly', degree = 4)\n",
        "\n",
        "svc_model.fit(x_train_scaled, y_train)\n",
        "y_pred = svc_model.predict(x_test_scaled)\n"
      ],
      "metadata": {
        "id": "h1IH2WCeFEd-"
      },
      "execution_count": null,
      "outputs": []
    },
    {
      "cell_type": "markdown",
      "source": [
        "SVM Accuracy"
      ],
      "metadata": {
        "id": "9rUUn8PtIgfp"
      }
    },
    {
      "cell_type": "code",
      "source": [
        "from sklearn.metrics import confusion_matrix\n",
        "\n",
        "cm = confusion_matrix(y_test, y_pred)\n",
        "print(\"Confusion Matrix:\\n\", cm)\n",
        "\n",
        "accuracy = np.trace(cm) / np.sum(cm) ## sum of all diagonal elements / sum of all elements in matrix\n",
        "print(\"Accuracy:\", accuracy)\n"
      ],
      "metadata": {
        "colab": {
          "base_uri": "https://localhost:8080/"
        },
        "id": "DiH58AIMFO3U",
        "outputId": "6ae16cc2-fd2a-4471-cccb-be9c0f022ca4"
      },
      "execution_count": null,
      "outputs": [
        {
          "output_type": "stream",
          "name": "stdout",
          "text": [
            "Confusion Matrix:\n",
            " [[ 4 26]\n",
            " [ 4 20]]\n",
            "Accuracy: 0.4444444444444444\n"
          ]
        }
      ]
    },
    {
      "cell_type": "markdown",
      "source": [
        "Decision Tree"
      ],
      "metadata": {
        "id": "IwllKP7oIjtV"
      }
    },
    {
      "cell_type": "code",
      "source": [
        "from sklearn.tree import DecisionTreeClassifier\n",
        "\n",
        "dt_model = DecisionTreeClassifier(max_depth = 25)\n",
        "\n",
        "dt_model.fit(x_train, y_train)\n",
        "y_pred = dt_model.predict(x_test)"
      ],
      "metadata": {
        "id": "GjccREQYHlLA"
      },
      "execution_count": null,
      "outputs": []
    },
    {
      "cell_type": "markdown",
      "source": [
        "Decision Tree Accuracy"
      ],
      "metadata": {
        "id": "tUWS-Vj2IlTe"
      }
    },
    {
      "cell_type": "code",
      "source": [
        "from sklearn.metrics import confusion_matrix\n",
        "\n",
        "cm = confusion_matrix(y_test, y_pred)\n",
        "print(\"Confusion Matrix:\\n\", cm)\n",
        "\n",
        "accuracy = np.trace(cm) / np.sum(cm) ## sum of all diagonal elements / sum of all elements in matrix\n",
        "print(\"Accuracy:\", accuracy)\n"
      ],
      "metadata": {
        "colab": {
          "base_uri": "https://localhost:8080/"
        },
        "id": "4Ket53txHqgT",
        "outputId": "79cd02b4-0cf1-4934-e02f-d301348ac80e"
      },
      "execution_count": null,
      "outputs": [
        {
          "output_type": "stream",
          "name": "stdout",
          "text": [
            "Confusion Matrix:\n",
            " [[16 14]\n",
            " [12 12]]\n",
            "Accuracy: 0.5185185185185185\n"
          ]
        }
      ]
    }
  ]
}